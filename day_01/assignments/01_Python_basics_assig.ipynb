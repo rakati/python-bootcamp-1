{
  "cells": [
    {
      "cell_type": "markdown",
      "metadata": {
        "id": "RMKQlIE9OTVe"
      },
      "source": [
        "# Python Basic exercises"
      ],
      "id": "RMKQlIE9OTVe"
    },
    {
      "cell_type": "markdown",
      "id": "c3dfc2ac",
      "metadata": {
        "id": "c3dfc2ac"
      },
      "source": [
        "## Scalar assignment\n",
        "\n",
        "- Assign the number `100` to a variable named `x` multiply it by `4`, then assign `x` to a variable named `y` and substract it by `20`"
      ]
    },
    {
      "cell_type": "code",
      "execution_count": null,
      "id": "0cb3f787",
      "metadata": {
        "id": "0cb3f787"
      },
      "outputs": [],
      "source": [
        "# your code here\n",
        "print(\"Test\")"
      ]
    },
    {
      "cell_type": "markdown",
      "id": "b57f3dd5",
      "metadata": {
        "id": "b57f3dd5"
      },
      "source": [
        "Q: Does the variable `x` changes after we substract it by `20` and why?"
      ]
    },
    {
      "cell_type": "markdown",
      "id": "8572cb70",
      "metadata": {
        "id": "8572cb70"
      },
      "source": [
        "## INPUT/OUTPUT"
      ]
    },
    {
      "cell_type": "markdown",
      "metadata": {
        "id": "JRA8lgixOTVn"
      },
      "source": [
        "### Exercice 1:\n",
        "\n",
        "Create a program that take a name from a user and print hello with the name of the user.\n",
        "\n",
        "Example:\n",
        "- input:\n",
        "\n",
        "```python\n",
        ">>> Hamid\n",
        "```\n",
        "- Desired output:\n",
        "\n",
        "```python\n",
        ">>> Hello Hamid\n",
        "```\n"
      ],
      "id": "JRA8lgixOTVn"
    },
    {
      "cell_type": "code",
      "execution_count": null,
      "metadata": {
        "id": "qleFuqmYOTVn",
        "outputId": "91eb0c92-147e-4a8c-f0df-84f86bd6ab0f"
      },
      "outputs": [
        {
          "name": "stdout",
          "output_type": "stream",
          "text": [
            "Enter your name Nouredine\n",
            "hello Nouredine\n"
          ]
        }
      ],
      "source": [
        "# your code here"
      ],
      "id": "qleFuqmYOTVn"
    },
    {
      "cell_type": "markdown",
      "metadata": {
        "id": "RFjtLb8ZOTVp"
      },
      "source": [
        "### Exercise 3:\n",
        "\n",
        "Create a program that take a two numbers from a user and print their sum and multiplication.\n",
        "Example:\n",
        "\n",
        "- Input:\n",
        "```python\n",
        ">>> 3\n",
        ">>> 4\n",
        "```\n",
        "- Desired output:\n",
        "```python\n",
        ">>> multiplication of 3 and 4 is 12\n",
        ">>> sum of 3 and 4 is 7\n",
        "```\n"
      ],
      "id": "RFjtLb8ZOTVp"
    },
    {
      "cell_type": "code",
      "execution_count": null,
      "metadata": {
        "id": "w6QG7VqQOTVq"
      },
      "outputs": [],
      "source": [
        "# your code here"
      ],
      "id": "w6QG7VqQOTVq"
    },
    {
      "cell_type": "markdown",
      "metadata": {
        "id": "MRHlxxuAOTVq"
      },
      "source": [
        "### Exercise 4: \n",
        "\n",
        "Display three string “Name”, “Is”, “James” as `Name**Is**James`\n",
        "\n",
        "Use the `print()` function to format the given words in the mentioned format. Display the ** separator between each string.\n"
      ],
      "id": "MRHlxxuAOTVq"
    },
    {
      "cell_type": "code",
      "execution_count": null,
      "metadata": {
        "id": "uR-dHLMvOTVr"
      },
      "outputs": [],
      "source": [
        "# your code here"
      ],
      "id": "uR-dHLMvOTVr"
    },
    {
      "cell_type": "markdown",
      "id": "742b4020",
      "metadata": {
        "id": "742b4020"
      },
      "source": [
        "## Conditional Statements"
      ]
    },
    {
      "cell_type": "markdown",
      "id": "27952464",
      "metadata": {
        "id": "27952464"
      },
      "source": [
        "### Exercise 1:\n",
        "Create a program that take a number from a user and check if it's pair or unpair."
      ]
    },
    {
      "cell_type": "code",
      "execution_count": null,
      "id": "9c87d3af",
      "metadata": {
        "id": "9c87d3af"
      },
      "outputs": [],
      "source": [
        "# code here"
      ]
    },
    {
      "cell_type": "markdown",
      "id": "154d2730",
      "metadata": {
        "id": "154d2730"
      },
      "source": [
        "### Exercise 2:\n",
        "Create a program that take two numbers `a` and `b` from a user and if:\n",
        "- `a` > `b` print `a is bigger than b`\n",
        "- `a` < `b` print `b is bigger than a`\n",
        "- `a` == `b` print `a is equal to b`"
      ]
    },
    {
      "cell_type": "code",
      "execution_count": null,
      "id": "f58cbf0a",
      "metadata": {
        "id": "f58cbf0a"
      },
      "outputs": [],
      "source": [
        "# code here"
      ]
    },
    {
      "cell_type": "markdown",
      "id": "1ceed55d",
      "metadata": {
        "id": "1ceed55d"
      },
      "source": [
        "## LOOPS"
      ]
    },
    {
      "cell_type": "markdown",
      "id": "93b857d2",
      "metadata": {
        "id": "93b857d2"
      },
      "source": [
        "### EX1:\n",
        "\n",
        "Write a program that prints numbers from 1 to 100 and if:\n",
        "- the number is a multiplier of `3` we print `Foo`\n",
        "- the number is a multiplier of `5` we print `Bar`\n",
        "- the number is a multiplier of `3` and `5` we print `FooBar`"
      ]
    },
    {
      "cell_type": "code",
      "execution_count": null,
      "id": "46e8171e",
      "metadata": {
        "id": "46e8171e"
      },
      "outputs": [],
      "source": [
        "# Code here"
      ]
    },
    {
      "cell_type": "markdown",
      "id": "68d4cd94",
      "metadata": {
        "id": "68d4cd94"
      },
      "source": [
        "### EX2:\n",
        "\n",
        "Write a program that take a string from a user, and print the string with capitalize the vowels letters {a, o, u, i, e}.\n",
        "\n",
        "Example:\n",
        "- Input:\n",
        "\n",
        "```python\n",
        ">>> hello world\n",
        "```\n",
        "\n",
        "- Desired output:\n",
        "\n",
        "```python\n",
        ">>> hEllO wOrld\n",
        "```"
      ]
    },
    {
      "cell_type": "markdown",
      "id": "2d0141dc",
      "metadata": {
        "id": "2d0141dc"
      },
      "source": [
        "### EX3\n",
        "\n",
        "Write a program that takes a number `n` and iterate from `0` to `n` while:\n",
        "- each time you find a multiplier of `4` you divide the total iterations by `2`"
      ]
    },
    {
      "cell_type": "code",
      "execution_count": null,
      "id": "2c0ae345",
      "metadata": {
        "id": "2c0ae345"
      },
      "outputs": [],
      "source": [
        "# code Here"
      ]
    }
  ],
  "metadata": {
    "hide_input": false,
    "kernelspec": {
      "display_name": "Python 3.10.4 64-bit",
      "language": "python",
      "name": "python3"
    },
    "language_info": {
      "codemirror_mode": {
        "name": "ipython",
        "version": 3
      },
      "file_extension": ".py",
      "mimetype": "text/x-python",
      "name": "python",
      "nbconvert_exporter": "python",
      "pygments_lexer": "ipython3",
      "version": "3.10.4"
    },
    "vscode": {
      "interpreter": {
        "hash": "916dbcbb3f70747c44a77c7bcd40155683ae19c65e1c03b4aa3499c5328201f1"
      }
    },
    "colab": {
      "provenance": []
    }
  },
  "nbformat": 4,
  "nbformat_minor": 5
}